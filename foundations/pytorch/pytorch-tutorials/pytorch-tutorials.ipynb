{
 "cells": [
  {
   "cell_type": "code",
   "execution_count": 1,
   "metadata": {},
   "outputs": [],
   "source": [
    "import torch \n",
    "import numpy as np\n"
   ]
  },
  {
   "cell_type": "markdown",
   "metadata": {},
   "source": [
    "### Tensor"
   ]
  },
  {
   "cell_type": "code",
   "execution_count": 2,
   "metadata": {},
   "outputs": [
    {
     "data": {
      "text/plain": [
       "tensor([[1, 2],\n",
       "        [3, 4]])"
      ]
     },
     "execution_count": 2,
     "metadata": {},
     "output_type": "execute_result"
    }
   ],
   "source": [
    "# In PyTorch, we use tensors to encode the inputs and outputs of a model, as well as the model’s parameters.\n",
    "# Tensors are similar to `NumPy’s ndarrays, except that tensors can run on GPUs or other hardware accelerators.\n",
    "\n",
    "data = [[1,2],[3,4]]\n",
    "x_data = torch.tensor(data)\n",
    "x_data"
   ]
  },
  {
   "cell_type": "code",
   "execution_count": 3,
   "metadata": {},
   "outputs": [
    {
     "data": {
      "text/plain": [
       "tensor([[1, 2],\n",
       "        [3, 4]])"
      ]
     },
     "execution_count": 3,
     "metadata": {},
     "output_type": "execute_result"
    }
   ],
   "source": [
    "np_array = np.array(data)\n",
    "x_data = torch.from_numpy(np_array)\n",
    "x_data"
   ]
  },
  {
   "cell_type": "code",
   "execution_count": 4,
   "metadata": {},
   "outputs": [
    {
     "data": {
      "text/plain": [
       "tensor([[0.5226, 0.1261],\n",
       "        [0.0359, 0.3813]], dtype=torch.float64)"
      ]
     },
     "execution_count": 4,
     "metadata": {},
     "output_type": "execute_result"
    }
   ],
   "source": [
    "x_ones = torch.ones_like(x_data)\n",
    "x_rand = torch.rand_like(x_data , dtype=torch.float64)\n",
    "x_rand"
   ]
  },
  {
   "cell_type": "code",
   "execution_count": 5,
   "metadata": {},
   "outputs": [
    {
     "name": "stdout",
     "output_type": "stream",
     "text": [
      "tensor([[[[0.5048, 0.2104, 0.7627],\n",
      "          [0.7688, 0.3937, 0.7857]],\n",
      "\n",
      "         [[0.7502, 0.8791, 0.2151],\n",
      "          [0.4401, 0.4391, 0.7697]],\n",
      "\n",
      "         [[0.4178, 0.3650, 0.3654],\n",
      "          [0.1251, 0.4482, 0.3928]]],\n",
      "\n",
      "\n",
      "        [[[0.6884, 0.1611, 0.4326],\n",
      "          [0.1282, 0.7256, 0.6048]],\n",
      "\n",
      "         [[0.5817, 0.2461, 0.4604],\n",
      "          [0.0175, 0.7454, 0.0381]],\n",
      "\n",
      "         [[0.1575, 0.6044, 0.0933],\n",
      "          [0.1784, 0.0513, 0.8250]]],\n",
      "\n",
      "\n",
      "        [[[0.1402, 0.0926, 0.7318],\n",
      "          [0.7823, 0.8444, 0.5708]],\n",
      "\n",
      "         [[0.1260, 0.2491, 0.8315],\n",
      "          [0.5060, 0.0384, 0.1896]],\n",
      "\n",
      "         [[0.1079, 0.5714, 0.2031],\n",
      "          [0.8756, 0.4461, 0.7078]]],\n",
      "\n",
      "\n",
      "        [[[0.4454, 0.8098, 0.3128],\n",
      "          [0.0658, 0.2613, 0.6803]],\n",
      "\n",
      "         [[0.0056, 0.5284, 0.5202],\n",
      "          [0.1490, 0.1735, 0.5532]],\n",
      "\n",
      "         [[0.2824, 0.0310, 0.0185],\n",
      "          [0.9919, 0.5948, 0.5998]]],\n",
      "\n",
      "\n",
      "        [[[0.0995, 0.8159, 0.4425],\n",
      "          [0.4489, 0.0277, 0.9079]],\n",
      "\n",
      "         [[0.6537, 0.4099, 0.8729],\n",
      "          [0.0669, 0.5778, 0.9876]],\n",
      "\n",
      "         [[0.0889, 0.6738, 0.1706],\n",
      "          [0.1922, 0.2586, 0.6203]]]])\n"
     ]
    },
    {
     "data": {
      "text/plain": [
       "tensor(0.8250)"
      ]
     },
     "execution_count": 5,
     "metadata": {},
     "output_type": "execute_result"
    }
   ],
   "source": [
    "x_ones = torch.ones(3,1)\n",
    "x_rand = torch.rand(5,3,2,3)\n",
    "print(x_rand)\n",
    "x_rand[1,2,1,2]"
   ]
  },
  {
   "cell_type": "code",
   "execution_count": 6,
   "metadata": {},
   "outputs": [
    {
     "data": {
      "text/plain": [
       "tensor([[2., 0., 1., 2.],\n",
       "        [2., 0., 1., 2.],\n",
       "        [2., 0., 1., 2.],\n",
       "        [2., 0., 1., 2.]], dtype=torch.float64)"
      ]
     },
     "execution_count": 6,
     "metadata": {},
     "output_type": "execute_result"
    }
   ],
   "source": [
    "tensor = torch.ones(4, 4)*np.random.randint(0,high =5,size=4)\n",
    "tensor"
   ]
  },
  {
   "cell_type": "code",
   "execution_count": 7,
   "metadata": {},
   "outputs": [
    {
     "data": {
      "text/plain": [
       "tensor([[0.6640, 0.9683, 0.6693, 0.6794, 0.5661],\n",
       "        [1.2584, 1.8085, 1.0757, 1.4322, 1.4315],\n",
       "        [1.0446, 1.2151, 0.8466, 1.5526, 1.0203],\n",
       "        [0.9072, 1.3049, 0.7175, 1.2513, 0.7704],\n",
       "        [1.2174, 1.3528, 0.9440, 1.6691, 1.0261]])"
      ]
     },
     "execution_count": 7,
     "metadata": {},
     "output_type": "execute_result"
    }
   ],
   "source": [
    "y1 = torch.rand(5,5)\n",
    "y2 = torch.rand(5,5)\n",
    "y3 = y1@ y2\n",
    "y3"
   ]
  },
  {
   "cell_type": "code",
   "execution_count": 8,
   "metadata": {},
   "outputs": [
    {
     "name": "stdout",
     "output_type": "stream",
     "text": [
      "items 4.315885543823242\n",
      "items 2.5053060054779053\n",
      "items 2.7057764530181885\n",
      "items 2.2533469200134277\n",
      "items 3.026614189147949\n"
     ]
    }
   ],
   "source": [
    "z1 = torch.rand(5,5)\n",
    "for i in z1.sum(1):\n",
    "    print(f\"items {i.item()}\")\n"
   ]
  },
  {
   "cell_type": "code",
   "execution_count": 9,
   "metadata": {},
   "outputs": [
    {
     "data": {
      "text/plain": [
       "tensor([[5.9499, 5.9340, 5.6118, 5.9373, 5.8828],\n",
       "        [5.4370, 5.5383, 5.6324, 5.8974, 5.0001],\n",
       "        [5.5316, 5.2929, 5.3528, 5.5804, 5.9481],\n",
       "        [5.5603, 5.8858, 5.1557, 5.2480, 5.4035],\n",
       "        [5.0445, 5.7660, 5.8442, 5.5937, 5.7782]])"
      ]
     },
     "execution_count": 9,
     "metadata": {},
     "output_type": "execute_result"
    }
   ],
   "source": [
    "z1.add_(5)"
   ]
  },
  {
   "cell_type": "code",
   "execution_count": 10,
   "metadata": {},
   "outputs": [
    {
     "data": {
      "text/plain": [
       "tensor([[0.6640, 0.9683, 0.6693, 0.6794, 0.5661],\n",
       "        [1.2584, 1.8085, 1.0757, 1.4322, 1.4315],\n",
       "        [1.0446, 1.2151, 0.8466, 1.5526, 1.0203],\n",
       "        [0.9072, 1.3049, 0.7175, 1.2513, 0.7704],\n",
       "        [1.2174, 1.3528, 0.9440, 1.6691, 1.0261]])"
      ]
     },
     "execution_count": 10,
     "metadata": {},
     "output_type": "execute_result"
    }
   ],
   "source": [
    "z1.copy_(y3)\n",
    "z1"
   ]
  },
  {
   "cell_type": "code",
   "execution_count": 11,
   "metadata": {},
   "outputs": [
    {
     "name": "stdout",
     "output_type": "stream",
     "text": [
      "data : 5.0\n",
      "data : 30.0\n"
     ]
    }
   ],
   "source": [
    "# Important : bridge-to-np-label, # Tensors on the CPU and NumPy arrays can share their underlying memory\n",
    "# locations, and changing one will change\tthe other.\n",
    "\n",
    "t= torch.ones(5)\n",
    "nump = t.numpy()\n",
    "print(f\"data : {nump.sum().item()}\")\n",
    "t.add_(5)\n",
    "print(f\"data : {nump.sum().item()}\")"
   ]
  },
  {
   "cell_type": "markdown",
   "metadata": {},
   "source": [
    "### Dataloader"
   ]
  },
  {
   "cell_type": "code",
   "execution_count": 20,
   "metadata": {},
   "outputs": [],
   "source": [
    "from torch.utils.data import Dataset\n",
    "from torchvision import datasets\n",
    "from torchvision.transforms import ToTensor, Lambda\n",
    "import matplotlib.pyplot as plt\n",
    "import os\n",
    "import pandas as pd\n",
    "from torchvision.io import read_image\n",
    "from torch.utils.data import DataLoader"
   ]
  },
  {
   "cell_type": "code",
   "execution_count": 21,
   "metadata": {},
   "outputs": [],
   "source": [
    " training_data = datasets.FashionMNIST(\n",
    "     root = \"data\",\n",
    "     train = True,\n",
    "     download = True,\n",
    "     transform = ToTensor()\n",
    "     \n",
    " )\n",
    "test_data = datasets.FashionMNIST(\n",
    "    root=\"data\",\n",
    "    train=False,\n",
    "    download=True,\n",
    "    transform=ToTensor()\n",
    ")"
   ]
  },
  {
   "cell_type": "code",
   "execution_count": 95,
   "metadata": {},
   "outputs": [
    {
     "data": {
      "image/png": "[encoded data removed]",
      "text/plain": [
       "<Figure size 576x576 with 9 Axes>"
      ]
     },
     "metadata": {
      "needs_background": "light"
     },
     "output_type": "display_data"
    }
   ],
   "source": [
    "labels_map = {\n",
    "    0: \"T-Shirt\",\n",
    "    1: \"Trouser\",\n",
    "    2: \"Pullover\",\n",
    "    3: \"Dress\",\n",
    "    4: \"Coat\",\n",
    "    5: \"Sandal\",\n",
    "    6: \"Shirt\",\n",
    "    7: \"Sneaker\",\n",
    "    8: \"Bag\",\n",
    "    9: \"Ankle Boot\",\n",
    "}\n",
    "\n",
    "figure = plt.figure(figsize=(8,8))\n",
    "cols,rows =3,3\n",
    "for i in range(1,cols*rows+1):\n",
    "    sample_idx = torch.randint(len(training_data),size=(1,)).item()\n",
    "    img, label = training_data[sample_idx]\n",
    "    figure.add_subplot(rows,cols,i)\n",
    "    plt.axis(\"off\")\n",
    "    plt.imshow(img.squeeze(), cmap=\"gray\")\n",
    "plt.show()  "
   ]
  },
  {
   "cell_type": "code",
   "execution_count": 14,
   "metadata": {},
   "outputs": [],
   "source": [
    "## custom dataset class \n",
    "class customDatasetClass(Dataset):\n",
    "    def __init__(self, annotation_file, img_dir, transform=None, target_transform=None):\n",
    "        self.image_labels = pd.read_csv(annotation_file)\n",
    "        self.img_dir = img_dir\n",
    "        self.transform = transform\n",
    "        self.target_transform = tarfet_transform\n",
    "    \n",
    "    def __len__():\n",
    "        return len(self.image_labels)\n",
    "    \n",
    "    def __getitem__():\n",
    "        img_path = os.path.join(self.img_dir, self.img_labels.iloc[idx, 0])\n",
    "        image = read_image(img_path)\n",
    "        label = self.img_labels.iloc[idx, 1]\n",
    "        if self.transform:\n",
    "            image = self.transform(image)\n",
    "        if self.target_transform:\n",
    "            label = self.target_transform(label)\n",
    "        return image, label\n"
   ]
  },
  {
   "cell_type": "code",
   "execution_count": 16,
   "metadata": {},
   "outputs": [
    {
     "data": {
      "text/plain": [
       "<matplotlib.image.AxesImage at 0x7feda17301f0>"
      ]
     },
     "execution_count": 16,
     "metadata": {},
     "output_type": "execute_result"
    },
    {
     "data": {
      "image/png": "[encoded data removed]",
      "text/plain": [
       "<Figure size 432x288 with 1 Axes>"
      ]
     },
     "metadata": {
      "needs_background": "light"
     },
     "output_type": "display_data"
    }
   ],
   "source": [
    "# iterate\n",
    "train_dataloader = DataLoader(training_data,batch_size=64, shuffle = True)\n",
    "test_dataloader = DataLoader(test_data,batch_size=64, shuffle = True)\n",
    "\n",
    "imgs, labels = next(iter(train_dataloader))\n",
    "plt.imshow(imgs[0].squeeze())"
   ]
  },
  {
   "cell_type": "code",
   "execution_count": 28,
   "metadata": {},
   "outputs": [
    {
     "data": {
      "text/plain": [
       "Dataset FashionMNIST\n",
       "    Number of datapoints: 60000\n",
       "    Root location: data\n",
       "    Split: Train\n",
       "    StandardTransform\n",
       "Transform: ToTensor()\n",
       "Target transform: Lambda()"
      ]
     },
     "execution_count": 28,
     "metadata": {},
     "output_type": "execute_result"
    }
   ],
   "source": [
    "training_data = datasets.FashionMNIST(\n",
    "    root = \"data\",\n",
    "    train = True,\n",
    "    download = True,\n",
    "    transform = ToTensor(),\n",
    "    target_transform = Lambda(lambda y : torch.zeros(10, dtype = torch.float64).scatter_(dim=0,index=torch.tensor(y),value=1))\n",
    ")\n",
    "training_data\n"
   ]
  },
  {
   "cell_type": "markdown",
   "metadata": {},
   "source": [
    "### Building NN"
   ]
  },
  {
   "cell_type": "code",
   "execution_count": 23,
   "metadata": {},
   "outputs": [
    {
     "data": {
      "text/plain": [
       "torch.Size([1, 10])"
      ]
     },
     "execution_count": 23,
     "metadata": {},
     "output_type": "execute_result"
    }
   ],
   "source": [
    "#we'll build a neural network to classify images in the FashionMNIST dataset.\n",
    "\n",
    "#Every module in PyTorch subclasses the `nn.Module'. A neural network is a module itself that consists \n",
    "# of other modules (layers).\n",
    "import torch\n",
    "from torch import nn\n",
    "from torch.utils.data import DataLoader \n",
    "from torchvision import datasets, transforms\n",
    "\n",
    "\n",
    "\n",
    "device = (\n",
    "    \"cuda\"\n",
    "    if torch.cuda.is_available()\n",
    "    else \"cpu\"\n",
    ")\n",
    "#print(f\"Using {device} device\")\n",
    "\n",
    "class NeuralNetwork(nn.Module):\n",
    "    def __init__(self):\n",
    "        super().__init__()\n",
    "        self.flatten = nn.Flatten()\n",
    "        self.linear_relu_stack = nn.Sequential(\n",
    "            nn.Linear(28*28,512),\n",
    "            nn.ReLU(),\n",
    "            nn.Linear(512,512),\n",
    "            nn.ReLU(),\n",
    "            nn.Linear(512,10)\n",
    "        )\n",
    "    def forward(self,x):\n",
    "        x = self.flatten(x)\n",
    "        return self.linear_relu_stack(x)\n",
    "\n",
    "    \n",
    "model = NeuralNetwork().to(device)\n",
    "#print(model)\n",
    "X = torch.rand(1,28,28,device=device)\n",
    "logits = model(X)\n",
    "prob = nn.Softmax(dim=1)(logits)\n",
    "logits.shape"
   ]
  },
  {
   "cell_type": "code",
   "execution_count": null,
   "metadata": {},
   "outputs": [],
   "source": []
  },
  {
   "cell_type": "code",
   "execution_count": null,
   "metadata": {},
   "outputs": [],
   "source": []
  },
  {
   "cell_type": "code",
   "execution_count": null,
   "metadata": {},
   "outputs": [],
   "source": []
  }
 ],
 "metadata": {
  "kernelspec": {
   "display_name": "Python 3 (ipykernel)",
   "language": "python",
   "name": "python3"
  },
  "language_info": {
   "codemirror_mode": {
    "name": "ipython",
    "version": 3
   },
   "file_extension": ".py",
   "mimetype": "text/x-python",
   "name": "python",
   "nbconvert_exporter": "python",
   "pygments_lexer": "ipython3",
   "version": "3.8.10"
  }
 },
 "nbformat": 4,
 "nbformat_minor": 4
}
