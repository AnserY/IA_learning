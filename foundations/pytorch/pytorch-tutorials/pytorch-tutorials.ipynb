{
 "cells": [
  {
   "cell_type": "code",
   "execution_count": 83,
   "metadata": {},
   "outputs": [],
   "source": [
    "import torch \n",
    "import numpy as np"
   ]
  },
  {
   "cell_type": "markdown",
   "metadata": {},
   "source": [
    "### Tensor"
   ]
  },
  {
   "cell_type": "code",
   "execution_count": 9,
   "metadata": {},
   "outputs": [
    {
     "data": {
      "text/plain": [
       "tensor([[1, 2],\n",
       "        [3, 4]])"
      ]
     },
     "execution_count": 9,
     "metadata": {},
     "output_type": "execute_result"
    }
   ],
   "source": [
    "# In PyTorch, we use tensors to encode the inputs and outputs of a model, as well as the model’s parameters.\n",
    "# Tensors are similar to `NumPy’s ndarrays, except that tensors can run on GPUs or other hardware accelerators.\n",
    "\n",
    "data = [[1,2],[3,4]]\n",
    "x_data = torch.tensor(data)\n",
    "x_data"
   ]
  },
  {
   "cell_type": "code",
   "execution_count": 11,
   "metadata": {},
   "outputs": [
    {
     "data": {
      "text/plain": [
       "tensor([[1, 2],\n",
       "        [3, 4]])"
      ]
     },
     "execution_count": 11,
     "metadata": {},
     "output_type": "execute_result"
    }
   ],
   "source": [
    "np_array = np.array(data)\n",
    "x_data = torch.from_numpy(np_array)\n",
    "x_data"
   ]
  },
  {
   "cell_type": "code",
   "execution_count": 21,
   "metadata": {},
   "outputs": [
    {
     "data": {
      "text/plain": [
       "tensor([[0.7533, 0.3094],\n",
       "        [0.2310, 0.3094]], dtype=torch.float64)"
      ]
     },
     "execution_count": 21,
     "metadata": {},
     "output_type": "execute_result"
    }
   ],
   "source": [
    "x_ones = torch.ones_like(x_data)\n",
    "x_rand = torch.rand_like(x_data , dtype=torch.float64)\n",
    "x_rand"
   ]
  },
  {
   "cell_type": "code",
   "execution_count": 32,
   "metadata": {},
   "outputs": [
    {
     "name": "stdout",
     "output_type": "stream",
     "text": [
      "tensor([[[[0.4308, 0.4583, 0.0020],\n",
      "          [0.7809, 0.9550, 0.7036]],\n",
      "\n",
      "         [[0.1881, 0.8999, 0.7811],\n",
      "          [0.5968, 0.0361, 0.6606]],\n",
      "\n",
      "         [[0.9149, 0.1656, 0.6879],\n",
      "          [0.6670, 0.7032, 0.4162]]],\n",
      "\n",
      "\n",
      "        [[[0.1609, 0.9064, 0.5558],\n",
      "          [0.2800, 0.4500, 0.5383]],\n",
      "\n",
      "         [[0.5052, 0.5498, 0.8268],\n",
      "          [0.3768, 0.9929, 0.9279]],\n",
      "\n",
      "         [[0.9640, 0.4804, 0.5276],\n",
      "          [0.9710, 0.1408, 0.3867]]],\n",
      "\n",
      "\n",
      "        [[[0.4833, 0.1848, 0.3177],\n",
      "          [0.7666, 0.9663, 0.0848]],\n",
      "\n",
      "         [[0.3801, 0.3806, 0.3627],\n",
      "          [0.6640, 0.6235, 0.4516]],\n",
      "\n",
      "         [[0.1052, 0.3028, 0.4623],\n",
      "          [0.8728, 0.1126, 0.9782]]],\n",
      "\n",
      "\n",
      "        [[[0.4205, 0.1875, 0.0330],\n",
      "          [0.3530, 0.4844, 0.8037]],\n",
      "\n",
      "         [[0.7662, 0.8408, 0.2799],\n",
      "          [0.5974, 0.2019, 0.8354]],\n",
      "\n",
      "         [[0.3541, 0.5874, 0.7328],\n",
      "          [0.7049, 0.8538, 0.0168]]],\n",
      "\n",
      "\n",
      "        [[[0.6526, 0.9462, 0.0018],\n",
      "          [0.7675, 0.6744, 0.3273]],\n",
      "\n",
      "         [[0.5482, 0.0234, 0.9019],\n",
      "          [0.0746, 0.2097, 0.3853]],\n",
      "\n",
      "         [[0.6911, 0.4339, 0.2458],\n",
      "          [0.5140, 0.4067, 0.0849]]]])\n"
     ]
    },
    {
     "data": {
      "text/plain": [
       "tensor(0.3867)"
      ]
     },
     "execution_count": 32,
     "metadata": {},
     "output_type": "execute_result"
    }
   ],
   "source": [
    "x_ones = torch.ones(3,1)\n",
    "x_rand = torch.rand(5,3,2,3)\n",
    "print(x_rand)\n",
    "x_rand[1,2,1,2]"
   ]
  },
  {
   "cell_type": "code",
   "execution_count": 46,
   "metadata": {},
   "outputs": [
    {
     "data": {
      "text/plain": [
       "tensor([[4., 0., 4., 2.],\n",
       "        [4., 0., 4., 2.],\n",
       "        [4., 0., 4., 2.],\n",
       "        [4., 0., 4., 2.]], dtype=torch.float64)"
      ]
     },
     "execution_count": 46,
     "metadata": {},
     "output_type": "execute_result"
    }
   ],
   "source": [
    "tensor = torch.ones(4, 4)*np.random.randint(0,high =5,size=4)\n",
    "tensor"
   ]
  },
  {
   "cell_type": "code",
   "execution_count": 62,
   "metadata": {},
   "outputs": [
    {
     "data": {
      "text/plain": [
       "tensor([[0.4676, 1.2691, 0.6872, 0.5498, 1.5075],\n",
       "        [0.7371, 1.2569, 1.0446, 0.6841, 1.6469],\n",
       "        [0.4610, 1.6522, 0.5755, 0.9011, 1.4095],\n",
       "        [0.5882, 1.2278, 0.8867, 0.6425, 1.3892],\n",
       "        [0.4092, 1.0743, 0.5042, 0.6829, 0.8991]])"
      ]
     },
     "execution_count": 62,
     "metadata": {},
     "output_type": "execute_result"
    }
   ],
   "source": [
    "y1 = torch.rand(5,5)\n",
    "y2 = torch.rand(5,5)\n",
    "y3 = y1@ y2\n",
    "y3"
   ]
  },
  {
   "cell_type": "code",
   "execution_count": 78,
   "metadata": {},
   "outputs": [
    {
     "name": "stdout",
     "output_type": "stream",
     "text": [
      "items 1.0352287292480469\n",
      "items 2.627589464187622\n",
      "items 3.501321315765381\n",
      "items 2.003802537918091\n",
      "items 2.112405300140381\n"
     ]
    }
   ],
   "source": [
    "z1 = torch.rand(5,5)\n",
    "for i in z1.sum(1):\n",
    "    print(f\"items {i.item()}\")\n"
   ]
  },
  {
   "cell_type": "code",
   "execution_count": 75,
   "metadata": {},
   "outputs": [
    {
     "data": {
      "text/plain": [
       "tensor([[5.0557, 5.7914, 5.8175, 5.9093],\n",
       "        [5.3173, 5.4479, 5.7413, 5.3117],\n",
       "        [5.2566, 5.1487, 5.3617, 5.9336],\n",
       "        [5.6248, 5.1730, 5.8764, 5.8024],\n",
       "        [5.9981, 5.6067, 5.5669, 5.1576]])"
      ]
     },
     "execution_count": 75,
     "metadata": {},
     "output_type": "execute_result"
    }
   ],
   "source": [
    "z1.add_(5)"
   ]
  },
  {
   "cell_type": "code",
   "execution_count": 79,
   "metadata": {},
   "outputs": [
    {
     "data": {
      "text/plain": [
       "tensor([[0.4676, 1.2691, 0.6872, 0.5498, 1.5075],\n",
       "        [0.7371, 1.2569, 1.0446, 0.6841, 1.6469],\n",
       "        [0.4610, 1.6522, 0.5755, 0.9011, 1.4095],\n",
       "        [0.5882, 1.2278, 0.8867, 0.6425, 1.3892],\n",
       "        [0.4092, 1.0743, 0.5042, 0.6829, 0.8991]])"
      ]
     },
     "execution_count": 79,
     "metadata": {},
     "output_type": "execute_result"
    }
   ],
   "source": [
    "z1.copy_(y3)\n",
    "z1"
   ]
  },
  {
   "cell_type": "code",
   "execution_count": 82,
   "metadata": {},
   "outputs": [
    {
     "name": "stdout",
     "output_type": "stream",
     "text": [
      "data : 5.0\n",
      "data : 30.0\n"
     ]
    }
   ],
   "source": [
    "# Important : bridge-to-np-label, # Tensors on the CPU and NumPy arrays can share their underlying memory\n",
    "# locations, and changing one will change\tthe other.\n",
    "\n",
    "t= torch.ones(5)\n",
    "nump = t.numpy()\n",
    "print(f\"data : {nump.sum().item()}\")\n",
    "t.add_(5)\n",
    "print(f\"data : {nump.sum().item()}\")"
   ]
  },
  {
   "cell_type": "markdown",
   "metadata": {},
   "source": [
    "### Dataloader"
   ]
  },
  {
   "cell_type": "code",
   "execution_count": 97,
   "metadata": {},
   "outputs": [],
   "source": [
    "from torch.utils.data import Dataset\n",
    "from torchvision import datasets\n",
    "from torchvision.transforms import ToTensor\n",
    "import matplotlib.pyplot as plt\n",
    "import os\n",
    "import pandas as pd\n",
    "from torchvision.io import read_image\n",
    "from torch.utils.data import DataLoader"
   ]
  },
  {
   "cell_type": "code",
   "execution_count": 87,
   "metadata": {},
   "outputs": [
    {
     "name": "stdout",
     "output_type": "stream",
     "text": [
      "Downloading http://fashion-mnist.s3-website.eu-central-1.amazonaws.com/train-images-idx3-ubyte.gz\n",
      "Downloading http://fashion-mnist.s3-website.eu-central-1.amazonaws.com/train-images-idx3-ubyte.gz to data/FashionMNIST/raw/train-images-idx3-ubyte.gz\n"
     ]
    },
    {
     "data": {
      "application/vnd.jupyter.widget-view+json": {
       "model_id": "6854f416dad249af95a19e35ed75b6a7",
       "version_major": 2,
       "version_minor": 0
      },
      "text/plain": [
       "  0%|          | 0/26421880 [00:00<?, ?it/s]"
      ]
     },
     "metadata": {},
     "output_type": "display_data"
    },
    {
     "name": "stdout",
     "output_type": "stream",
     "text": [
      "Extracting data/FashionMNIST/raw/train-images-idx3-ubyte.gz to data/FashionMNIST/raw\n",
      "\n",
      "Downloading http://fashion-mnist.s3-website.eu-central-1.amazonaws.com/train-labels-idx1-ubyte.gz\n",
      "Downloading http://fashion-mnist.s3-website.eu-central-1.amazonaws.com/train-labels-idx1-ubyte.gz to data/FashionMNIST/raw/train-labels-idx1-ubyte.gz\n"
     ]
    },
    {
     "data": {
      "application/vnd.jupyter.widget-view+json": {
       "model_id": "c4a3d41d69874529a3295d822ef84844",
       "version_major": 2,
       "version_minor": 0
      },
      "text/plain": [
       "  0%|          | 0/29515 [00:00<?, ?it/s]"
      ]
     },
     "metadata": {},
     "output_type": "display_data"
    },
    {
     "name": "stdout",
     "output_type": "stream",
     "text": [
      "Extracting data/FashionMNIST/raw/train-labels-idx1-ubyte.gz to data/FashionMNIST/raw\n",
      "\n",
      "Downloading http://fashion-mnist.s3-website.eu-central-1.amazonaws.com/t10k-images-idx3-ubyte.gz\n",
      "Downloading http://fashion-mnist.s3-website.eu-central-1.amazonaws.com/t10k-images-idx3-ubyte.gz to data/FashionMNIST/raw/t10k-images-idx3-ubyte.gz\n"
     ]
    },
    {
     "data": {
      "application/vnd.jupyter.widget-view+json": {
       "model_id": "0c1cd1ea48264b8bab1755e0dac26aeb",
       "version_major": 2,
       "version_minor": 0
      },
      "text/plain": [
       "  0%|          | 0/4422102 [00:00<?, ?it/s]"
      ]
     },
     "metadata": {},
     "output_type": "display_data"
    },
    {
     "name": "stdout",
     "output_type": "stream",
     "text": [
      "Extracting data/FashionMNIST/raw/t10k-images-idx3-ubyte.gz to data/FashionMNIST/raw\n",
      "\n",
      "Downloading http://fashion-mnist.s3-website.eu-central-1.amazonaws.com/t10k-labels-idx1-ubyte.gz\n",
      "Downloading http://fashion-mnist.s3-website.eu-central-1.amazonaws.com/t10k-labels-idx1-ubyte.gz to data/FashionMNIST/raw/t10k-labels-idx1-ubyte.gz\n"
     ]
    },
    {
     "data": {
      "application/vnd.jupyter.widget-view+json": {
       "model_id": "2f72063d082749b0ba5c2b51a91e73b7",
       "version_major": 2,
       "version_minor": 0
      },
      "text/plain": [
       "  0%|          | 0/5148 [00:00<?, ?it/s]"
      ]
     },
     "metadata": {},
     "output_type": "display_data"
    },
    {
     "name": "stdout",
     "output_type": "stream",
     "text": [
      "Extracting data/FashionMNIST/raw/t10k-labels-idx1-ubyte.gz to data/FashionMNIST/raw\n",
      "\n"
     ]
    }
   ],
   "source": [
    " training_data = datasets.FashionMNIST(\n",
    "     root = \"data\",\n",
    "     train = True,\n",
    "     download = True,\n",
    "     transform = ToTensor()\n",
    "     \n",
    " )\n",
    "test_data = datasets.FashionMNIST(\n",
    "    root=\"data\",\n",
    "    train=False,\n",
    "    download=True,\n",
    "    transform=ToTensor()\n",
    ")"
   ]
  },
  {
   "cell_type": "code",
   "execution_count": 95,
   "metadata": {},
   "outputs": [
    {
     "data": {
      "image/png": "[encoded data removed]",
      "text/plain": [
       "<Figure size 576x576 with 9 Axes>"
      ]
     },
     "metadata": {
      "needs_background": "light"
     },
     "output_type": "display_data"
    }
   ],
   "source": [
    "labels_map = {\n",
    "    0: \"T-Shirt\",\n",
    "    1: \"Trouser\",\n",
    "    2: \"Pullover\",\n",
    "    3: \"Dress\",\n",
    "    4: \"Coat\",\n",
    "    5: \"Sandal\",\n",
    "    6: \"Shirt\",\n",
    "    7: \"Sneaker\",\n",
    "    8: \"Bag\",\n",
    "    9: \"Ankle Boot\",\n",
    "}\n",
    "\n",
    "figure = plt.figure(figsize=(8,8))\n",
    "cols,rows =3,3\n",
    "for i in range(1,cols*rows+1):\n",
    "    sample_idx = torch.randint(len(training_data),size=(1,)).item()\n",
    "    img, label = training_data[sample_idx]\n",
    "    figure.add_subplot(rows,cols,i)\n",
    "    plt.axis(\"off\")\n",
    "    plt.imshow(img.squeeze(), cmap=\"gray\")\n",
    "plt.show()  "
   ]
  },
  {
   "cell_type": "code",
   "execution_count": 99,
   "metadata": {},
   "outputs": [],
   "source": [
    "## custom dataset class \n",
    "class customDatasetClass(Dataset):\n",
    "    def __init__(self, annotation_file, img_dir, transform=None, target_transform=None):\n",
    "        self.image_labels = pd.read_csv(annotation_file)\n",
    "        self.img_dir = img_dir\n",
    "        self.transform = transform\n",
    "        self.target_transform = tarfet_transform\n",
    "    \n",
    "    def __len__():\n",
    "        return len(self.image_labels)\n",
    "    \n",
    "    def __getitem__():\n",
    "        img_path = os.path.join(self.img_dir, self.img_labels.iloc[idx, 0])\n",
    "        image = read_image(img_path)\n",
    "        label = self.img_labels.iloc[idx, 1]\n",
    "        if self.transform:\n",
    "            image = self.transform(image)\n",
    "        if self.target_transform:\n",
    "            label = self.target_transform(label)\n",
    "        return image, label\n"
   ]
  },
  {
   "cell_type": "code",
   "execution_count": 103,
   "metadata": {},
   "outputs": [
    {
     "data": {
      "text/plain": [
       "<matplotlib.image.AxesImage at 0x7fbe6de6b820>"
      ]
     },
     "execution_count": 103,
     "metadata": {},
     "output_type": "execute_result"
    },
    {
     "data": {
      "image/png": "[encoded data removed]",
      "text/plain": [
       "<Figure size 432x288 with 1 Axes>"
      ]
     },
     "metadata": {
      "needs_background": "light"
     },
     "output_type": "display_data"
    }
   ],
   "source": [
    "# iterate\n",
    "train_dataloader = DataLoader(training_data,batch_size=64, shuffle = True)\n",
    "test_dataloader = DataLoader(test_data,batch_size=64, shuffle = True)\n",
    "\n",
    "imgs, labels = next(iter(train_dataloader))\n",
    "plt.imshow(imgs[0].squeeze())"
   ]
  }
 ],
 "metadata": {
  "kernelspec": {
   "display_name": "Python 3",
   "language": "python",
   "name": "python3"
  },
  "language_info": {
   "codemirror_mode": {
    "name": "ipython",
    "version": 3
   },
   "file_extension": ".py",
   "mimetype": "text/x-python",
   "name": "python",
   "nbconvert_exporter": "python",
   "pygments_lexer": "ipython3",
   "version": "3.8.10"
  }
 },
 "nbformat": 4,
 "nbformat_minor": 4
}
